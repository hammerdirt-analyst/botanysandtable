{
 "cells": [
  {
   "cell_type": "code",
   "execution_count": 1,
   "id": "4253d01e-4e3d-4f87-9e35-e7b680ca2e99",
   "metadata": {},
   "outputs": [],
   "source": [
    "# os and sys\n",
    "import os\n",
    "import datetime as dt\n",
    "\n",
    "# data\n",
    "import pandas as pd\n",
    "import numpy as np"
   ]
  },
  {
   "cell_type": "code",
   "execution_count": 2,
   "id": "147085b3-5431-47f3-97ca-6c55215a3d0f",
   "metadata": {},
   "outputs": [],
   "source": [
    "# genus species\n",
    "rand_letters = [\"a\", \"b\", \"c\", \"d\", \"e\", \"f\", \"g\", \"h\",\"i\"]\n",
    "plant = \"plant\"\n",
    "number = [x+1 for x in np.arange(len(rand_letters))]\n",
    "\n",
    "names = [f\"{plant}-{x}\" for x in number]"
   ]
  },
  {
   "cell_type": "code",
   "execution_count": 3,
   "id": "c39bdc0f-70d2-43b4-a99a-e32b8b7cbeaf",
   "metadata": {},
   "outputs": [],
   "source": [
    "# growth times in days\n",
    "\n",
    "# hibernation\n",
    "htime = [21, 38, 52, 14, 0]\n",
    "# germinate\n",
    "gtime = [10, 15, 21, 30, 18, 28]\n",
    "# to bloom\n",
    "btime = [60, 90, 75, 120, 150, 45, 30]\n",
    "\n",
    "# assign the values randomly based on a probability dist\n",
    "# less bloom time higher probability\n",
    "growth_times={}\n",
    "for plant in names:\n",
    "    h_t = np.random.choice(htime, size=1, p=[.06, .05,.01,.24,.64])\n",
    "    g_t = np.random.choice(gtime,size=1, p=[.01, .12, .27, .01, .34, .25])\n",
    "    b_t = np.random.choice(btime, size=1, p=[.4, .1, .1, .05, .05, .15, .15])    \n",
    "    g = {plant:{\"hibernate\":h_t[0], \"germinate\":g_t[0], \"bloomtime\":b_t[0]}}\n",
    "    growth_times.update(g)\n",
    "    \n",
    "g_times = pd.DataFrame.from_dict(growth_times, orient='index')"
   ]
  },
  {
   "cell_type": "code",
   "execution_count": 4,
   "id": "a7326610-4f98-4f8e-8710-da659ef499e3",
   "metadata": {},
   "outputs": [],
   "source": [
    "# assign a required space for each plant to reach maturity\n",
    "b_times = g_times.bloomtime.unique()\n",
    "b_times = sorted(b_times)\n",
    "\n",
    "# required space for plant to bloom in:\n",
    "# ground cover, quick germinate and bloom, supports feature and support plants\n",
    "g_times['space'] = 1\n",
    "\n",
    "# anchor plant, the plant that supports multiple types of whatever\n",
    "g_times.loc[g_times.bloomtime == b_times[-1], 'space'] = int(((50/2)**2)*(3.14))\n",
    "\n",
    "# feature plants, support the cover and the anchor\n",
    "g_times.loc[g_times.bloomtime == b_times[-2], 'space'] = int(((20/2)**2)*(3.14))\n",
    "\n",
    "# support plants, support the feature and the anchor\n",
    "g_times.loc[g_times.bloomtime == b_times[-3], 'space'] = int(((15/2)**2)*(3.14))"
   ]
  },
  {
   "cell_type": "code",
   "execution_count": 5,
   "id": "7e230cca-30fb-4534-a329-dc638dd34cc4",
   "metadata": {},
   "outputs": [],
   "source": [
    "# assign the space to required to bring germinate one plant:\n",
    "\n",
    "# number of seeds for one plant:\n",
    "seeds = 1\n",
    "\n",
    "# space for one seedling prior to transplant cm²\n",
    "\n",
    "# assign a fail rate\n",
    "fail_rate=.2\n",
    "\n",
    "# assign a target value in sq meters\n",
    "deliver=100\n",
    "\n",
    "# assign a delivery date\n",
    "d_date = \"2022-03-01\"\n",
    "\n",
    "# assign a through date, you must maintain the installation for that amount of time\n",
    "thru_date = \"2022-09-30\""
   ]
  },
  {
   "cell_type": "code",
   "execution_count": 6,
   "id": "b11ac428-40af-4340-b897-94dad132022a",
   "metadata": {},
   "outputs": [],
   "source": [
    "# build an order based on the bloom time and growth times\n",
    "# to do that we will base the values of the plant on its frequency or abundance\n",
    "# the more abundant plants will take up the least space and have the shortest germination times\n",
    "\n",
    "# assign a category to each plant based on bloom time\n",
    "g_times['group'] = 'cover'\n",
    "g_times.loc[g_times.bloomtime == b_times[-1], 'group'] = \"anchor\"\n",
    "g_times.loc[g_times.bloomtime == b_times[-2], 'group'] = \"feature\"\n",
    "g_times.loc[g_times.bloomtime == b_times[-3], 'group'] = \"support\""
   ]
  },
  {
   "cell_type": "code",
   "execution_count": 7,
   "id": "2a5c7aaf-539c-4bbf-a962-f5cb14324d71",
   "metadata": {},
   "outputs": [],
   "source": [
    "# assigin a percentage of space for each group or category in the final instalation:\n",
    "support = .1\n",
    "anchor=.1\n",
    "feature=.3\n",
    "cover=.5"
   ]
  },
  {
   "cell_type": "code",
   "execution_count": 8,
   "id": "7d78b451-308c-42df-babb-a0c94c6bbf42",
   "metadata": {},
   "outputs": [],
   "source": [
    "# randomly select the plants for the instalation\n",
    "s_choices = g_times[g_times.group == 'support'].index.unique()\n",
    "c_choices = g_times[g_times.group == 'cover'].index.unique()\n",
    "f_choices = g_times[g_times.group == 'feature'].index.unique()\n",
    "a_choices = g_times[g_times.group == 'anchor'].index.unique()"
   ]
  },
  {
   "cell_type": "code",
   "execution_count": 9,
   "id": "1097ac62-59e0-448d-b2f0-2c0e291a8428",
   "metadata": {},
   "outputs": [],
   "source": [
    "# 10,000 cm² = 1m²\n",
    "\n",
    "# the number of cover plants\n",
    "n_cover = int(((50*10000)/1))\n",
    "\n",
    "# the number of support plants\n",
    "n_supp = int((10*10000)/176)\n",
    "\n",
    "# the number of feature plants\n",
    "n_feat = int((30*10000/314))\n",
    "\n",
    "# the number of anchors\n",
    "n_anchor= int((10*10000/1962))"
   ]
  },
  {
   "cell_type": "code",
   "execution_count": 10,
   "id": "29ef473f-db98-4048-9a6a-dedf5f985813",
   "metadata": {},
   "outputs": [],
   "source": [
    "# the number of plants to be germinated\n",
    "# assume the anchors is a perenial\n",
    "# assume that the support plants are perenial or whatever you don't need to germinate\n",
    "\n",
    "c_germ = n_cover/(1-fail_rate)\n",
    "f_germ = n_feat/(1-fail_rate)\n",
    "\n",
    "# the number of plants you will have to replace for the specified period of time\n",
    "# count that every plant will have to be replaced once\n",
    "t_germ = (c_germ + f_germ)*2\n",
    "\n",
    "# the space required to germinate\n",
    "# cover plants are like sod or grass you can get many in few centimeters squared:\n",
    "space_cover = int((c_germ)/10000)\n",
    "\n",
    "# count 2cm² to germinate each feature plant\n",
    "space_feature =int((f_germ*2)/10000)\n",
    "\n",
    "# the space for perenials\n",
    "space_support = int((n_supp*176)/10000)\n",
    "\n",
    "# space for anchor\n",
    "anchor_space = int((n_anchor*1962)/10000)\n",
    "\n",
    "# space to keep inventory\n",
    "invspace = space_cover + space_feature+ space_support+anchor_space\n",
    "total_space = invspace*2"
   ]
  },
  {
   "cell_type": "code",
   "execution_count": 11,
   "id": "1521bd46-0889-4c48-855e-d1ae855f7bff",
   "metadata": {},
   "outputs": [
    {
     "data": {
      "text/plain": [
       "208.0"
      ]
     },
     "execution_count": 11,
     "metadata": {},
     "output_type": "execute_result"
    }
   ],
   "source": [
    "# minimum space required\n",
    "# plus place to put tools and assume some vertical arrangement\n",
    "\n",
    "total_space+(total_space*.3)"
   ]
  },
  {
   "cell_type": "code",
   "execution_count": 12,
   "id": "90e43381-e751-4030-ac4d-3e592a12a032",
   "metadata": {},
   "outputs": [
    {
     "data": {
      "text/plain": [
       "1252387"
      ]
     },
     "execution_count": 12,
     "metadata": {},
     "output_type": "execute_result"
    }
   ],
   "source": [
    "# plants to germinate\n",
    "int(t_germ)"
   ]
  },
  {
   "cell_type": "code",
   "execution_count": 13,
   "id": "52f2e17a-11bf-438d-ab56-276ba2457394",
   "metadata": {},
   "outputs": [
    {
     "name": "stdout",
     "output_type": "stream",
     "text": [
      "cover: 625000.0, feature:1193.75\n"
     ]
    }
   ],
   "source": [
    "# seeds by type\n",
    "print(F\"cover: {c_germ}, feature:{f_germ}\")"
   ]
  },
  {
   "cell_type": "code",
   "execution_count": 14,
   "id": "d2263f28-f74a-4d49-8ed5-316e7ccb8319",
   "metadata": {},
   "outputs": [
    {
     "data": {
      "text/html": [
       "<div>\n",
       "<style scoped>\n",
       "    .dataframe tbody tr th:only-of-type {\n",
       "        vertical-align: middle;\n",
       "    }\n",
       "\n",
       "    .dataframe tbody tr th {\n",
       "        vertical-align: top;\n",
       "    }\n",
       "\n",
       "    .dataframe thead th {\n",
       "        text-align: right;\n",
       "    }\n",
       "</style>\n",
       "<table border=\"1\" class=\"dataframe\">\n",
       "  <thead>\n",
       "    <tr style=\"text-align: right;\">\n",
       "      <th></th>\n",
       "      <th>n plants</th>\n",
       "    </tr>\n",
       "  </thead>\n",
       "  <tbody>\n",
       "    <tr>\n",
       "      <th>cover</th>\n",
       "      <td>500000</td>\n",
       "    </tr>\n",
       "    <tr>\n",
       "      <th>support</th>\n",
       "      <td>568</td>\n",
       "    </tr>\n",
       "    <tr>\n",
       "      <th>feature</th>\n",
       "      <td>955</td>\n",
       "    </tr>\n",
       "    <tr>\n",
       "      <th>anchor</th>\n",
       "      <td>50</td>\n",
       "    </tr>\n",
       "  </tbody>\n",
       "</table>\n",
       "</div>"
      ],
      "text/plain": [
       "         n plants\n",
       "cover      500000\n",
       "support       568\n",
       "feature       955\n",
       "anchor         50"
      ]
     },
     "execution_count": 14,
     "metadata": {},
     "output_type": "execute_result"
    }
   ],
   "source": [
    "# the number of each type of plant needed for inventory and delivery\n",
    "x = pd.DataFrame.from_dict({'cover':n_cover, 'support':n_supp, 'feature':n_feat, 'anchor':n_anchor},orient='index')\n",
    "x.rename(columns={0:'n plants'})"
   ]
  },
  {
   "cell_type": "code",
   "execution_count": 15,
   "id": "c16743a6-e7dd-4b1b-92b5-70573f00cac9",
   "metadata": {},
   "outputs": [
    {
     "data": {
      "text/html": [
       "<div>\n",
       "<style scoped>\n",
       "    .dataframe tbody tr th:only-of-type {\n",
       "        vertical-align: middle;\n",
       "    }\n",
       "\n",
       "    .dataframe tbody tr th {\n",
       "        vertical-align: top;\n",
       "    }\n",
       "\n",
       "    .dataframe thead th {\n",
       "        text-align: right;\n",
       "    }\n",
       "</style>\n",
       "<table border=\"1\" class=\"dataframe\">\n",
       "  <thead>\n",
       "    <tr style=\"text-align: right;\">\n",
       "      <th></th>\n",
       "      <th>hibernate</th>\n",
       "      <th>germinate</th>\n",
       "      <th>bloomtime</th>\n",
       "      <th>space</th>\n",
       "      <th>group</th>\n",
       "    </tr>\n",
       "  </thead>\n",
       "  <tbody>\n",
       "    <tr>\n",
       "      <th>plant-1</th>\n",
       "      <td>14</td>\n",
       "      <td>15</td>\n",
       "      <td>150</td>\n",
       "      <td>1962</td>\n",
       "      <td>anchor</td>\n",
       "    </tr>\n",
       "    <tr>\n",
       "      <th>plant-2</th>\n",
       "      <td>38</td>\n",
       "      <td>15</td>\n",
       "      <td>60</td>\n",
       "      <td>176</td>\n",
       "      <td>support</td>\n",
       "    </tr>\n",
       "    <tr>\n",
       "      <th>plant-3</th>\n",
       "      <td>0</td>\n",
       "      <td>18</td>\n",
       "      <td>60</td>\n",
       "      <td>176</td>\n",
       "      <td>support</td>\n",
       "    </tr>\n",
       "    <tr>\n",
       "      <th>plant-4</th>\n",
       "      <td>0</td>\n",
       "      <td>18</td>\n",
       "      <td>45</td>\n",
       "      <td>1</td>\n",
       "      <td>cover</td>\n",
       "    </tr>\n",
       "    <tr>\n",
       "      <th>plant-5</th>\n",
       "      <td>14</td>\n",
       "      <td>15</td>\n",
       "      <td>30</td>\n",
       "      <td>1</td>\n",
       "      <td>cover</td>\n",
       "    </tr>\n",
       "    <tr>\n",
       "      <th>plant-6</th>\n",
       "      <td>0</td>\n",
       "      <td>10</td>\n",
       "      <td>60</td>\n",
       "      <td>176</td>\n",
       "      <td>support</td>\n",
       "    </tr>\n",
       "    <tr>\n",
       "      <th>plant-7</th>\n",
       "      <td>0</td>\n",
       "      <td>15</td>\n",
       "      <td>75</td>\n",
       "      <td>314</td>\n",
       "      <td>feature</td>\n",
       "    </tr>\n",
       "    <tr>\n",
       "      <th>plant-8</th>\n",
       "      <td>0</td>\n",
       "      <td>21</td>\n",
       "      <td>60</td>\n",
       "      <td>176</td>\n",
       "      <td>support</td>\n",
       "    </tr>\n",
       "    <tr>\n",
       "      <th>plant-9</th>\n",
       "      <td>14</td>\n",
       "      <td>28</td>\n",
       "      <td>60</td>\n",
       "      <td>176</td>\n",
       "      <td>support</td>\n",
       "    </tr>\n",
       "  </tbody>\n",
       "</table>\n",
       "</div>"
      ],
      "text/plain": [
       "         hibernate  germinate  bloomtime  space    group\n",
       "plant-1         14         15        150   1962   anchor\n",
       "plant-2         38         15         60    176  support\n",
       "plant-3          0         18         60    176  support\n",
       "plant-4          0         18         45      1    cover\n",
       "plant-5         14         15         30      1    cover\n",
       "plant-6          0         10         60    176  support\n",
       "plant-7          0         15         75    314  feature\n",
       "plant-8          0         21         60    176  support\n",
       "plant-9         14         28         60    176  support"
      ]
     },
     "execution_count": 15,
     "metadata": {},
     "output_type": "execute_result"
    }
   ],
   "source": [
    "# your plants:\n",
    "g_times"
   ]
  },
  {
   "cell_type": "code",
   "execution_count": null,
   "id": "69ba6fb4-d4ee-4d3e-9fb5-664698059b97",
   "metadata": {},
   "outputs": [],
   "source": []
  }
 ],
 "metadata": {
  "kernelspec": {
   "display_name": "Python 3 (ipykernel)",
   "language": "python",
   "name": "python3"
  },
  "language_info": {
   "codemirror_mode": {
    "name": "ipython",
    "version": 3
   },
   "file_extension": ".py",
   "mimetype": "text/x-python",
   "name": "python",
   "nbconvert_exporter": "python",
   "pygments_lexer": "ipython3",
   "version": "3.8.10"
  }
 },
 "nbformat": 4,
 "nbformat_minor": 5
}
